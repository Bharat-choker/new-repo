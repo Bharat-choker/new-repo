{
 "cells": [
  {
   "cell_type": "code",
   "execution_count": 1,
   "id": "4c7adc7e",
   "metadata": {},
   "outputs": [
    {
     "name": "stdout",
     "output_type": "stream",
     "text": [
      "Requirement already satisfied: mysql in c:\\users\\bharat\\appdata\\local\\programs\\python\\python311\\lib\\site-packages (0.0.3)\n",
      "Requirement already satisfied: mysqlclient in c:\\users\\bharat\\appdata\\local\\programs\\python\\python311\\lib\\site-packages (from mysql) (2.2.0)\n",
      "Note: you may need to restart the kernel to use updated packages.\n"
     ]
    }
   ],
   "source": [
    "pip install mysql\n"
   ]
  },
  {
   "cell_type": "code",
   "execution_count": 2,
   "id": "101da19e",
   "metadata": {},
   "outputs": [
    {
     "name": "stdout",
     "output_type": "stream",
     "text": [
      "Requirement already satisfied: mysql-connector-python in c:\\users\\bharat\\appdata\\local\\programs\\python\\python311\\lib\\site-packages (8.0.33)\n",
      "Requirement already satisfied: protobuf<=3.20.3,>=3.11.0 in c:\\users\\bharat\\appdata\\local\\programs\\python\\python311\\lib\\site-packages (from mysql-connector-python) (3.20.3)\n",
      "Note: you may need to restart the kernel to use updated packages.\n"
     ]
    }
   ],
   "source": [
    "pip install mysql-connector-python"
   ]
  },
  {
   "cell_type": "code",
   "execution_count": 3,
   "id": "88cdd32a",
   "metadata": {},
   "outputs": [],
   "source": [
    "import mysql.connector as sql"
   ]
  },
  {
   "cell_type": "code",
   "execution_count": 8,
   "id": "260c37b1",
   "metadata": {},
   "outputs": [
    {
     "name": "stdout",
     "output_type": "stream",
     "text": [
      "<mysql.connector.connection.MySQLConnection object at 0x000001836E3AE190>\n"
     ]
    }
   ],
   "source": [
    "db = sql.connect(\n",
    "                    host ='localhost',\n",
    "                    user ='root',\n",
    "                    password = 'bharat12',\n",
    "                    use_pure = True)\n",
    "print(db)"
   ]
  },
  {
   "cell_type": "code",
   "execution_count": 9,
   "id": "3a24a0c4",
   "metadata": {},
   "outputs": [],
   "source": [
    "cursor = db.cursor()"
   ]
  },
  {
   "cell_type": "code",
   "execution_count": 10,
   "id": "7d38f6ec",
   "metadata": {},
   "outputs": [],
   "source": [
    "cursor.execute('show databases')"
   ]
  },
  {
   "cell_type": "code",
   "execution_count": 11,
   "id": "57646ff6",
   "metadata": {},
   "outputs": [
    {
     "name": "stdout",
     "output_type": "stream",
     "text": [
      "('information_schema',)\n",
      "('mysql',)\n",
      "('performance_schema',)\n",
      "('sql_hr',)\n",
      "('sql_inventory',)\n",
      "('sql_invoicing',)\n",
      "('sql_store',)\n",
      "('sys',)\n"
     ]
    }
   ],
   "source": [
    "for i in cursor:\n",
    "    print(i)"
   ]
  },
  {
   "cell_type": "code",
   "execution_count": null,
   "id": "1898d66b",
   "metadata": {},
   "outputs": [],
   "source": []
  }
 ],
 "metadata": {
  "kernelspec": {
   "display_name": "Python 3 (ipykernel)",
   "language": "python",
   "name": "python3"
  },
  "language_info": {
   "codemirror_mode": {
    "name": "ipython",
    "version": 3
   },
   "file_extension": ".py",
   "mimetype": "text/x-python",
   "name": "python",
   "nbconvert_exporter": "python",
   "pygments_lexer": "ipython3",
   "version": "3.11.2"
  }
 },
 "nbformat": 4,
 "nbformat_minor": 5
}
